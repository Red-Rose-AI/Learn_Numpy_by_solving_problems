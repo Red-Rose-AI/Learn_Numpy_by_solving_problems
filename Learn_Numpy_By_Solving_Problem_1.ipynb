{
  "nbformat": 4,
  "nbformat_minor": 0,
  "metadata": {
    "colab": {
      "provenance": []
    },
    "kernelspec": {
      "name": "python3",
      "display_name": "Python 3"
    },
    "language_info": {
      "name": "python"
    }
  },
  "cells": [
    {
      "cell_type": "markdown",
      "source": [
        "\n",
        "\n",
        "# <font color='red'>------------||  Red Rose AI  ||------------</font>\n",
        "\n",
        "---\n",
        "\n",
        "\n",
        "**Empowering AI Enthusiasts: Theory to Practice with Red Rose AI**\n",
        "\n",
        "\n",
        "---\n",
        "\n"
      ],
      "metadata": {
        "id": "Zsf__DS2vzvl"
      }
    },
    {
      "cell_type": "markdown",
      "source": [
        "**Problem 1:** Create a NumPy array called my_array with the following elements: 1, 2, 3, 4, 5. Print the array."
      ],
      "metadata": {
        "id": "p6BOoDuqwJdg"
      }
    },
    {
      "cell_type": "code",
      "source": [
        "import numpy as np"
      ],
      "metadata": {
        "id": "I_y5gqhXH9hi"
      },
      "execution_count": null,
      "outputs": []
    },
    {
      "cell_type": "code",
      "source": [
        "my_array = np.array([1, 2, 3, 4, 5])\n",
        "print('my array: ', my_array)\n",
        "print('type: ', type(my_array))"
      ],
      "metadata": {
        "colab": {
          "base_uri": "https://localhost:8080/"
        },
        "id": "KtqKisGqJFyS",
        "outputId": "80ec0e0f-76bf-4b02-d04a-077f5169a2d5"
      },
      "execution_count": null,
      "outputs": [
        {
          "output_type": "stream",
          "name": "stdout",
          "text": [
            "my array:  [1 2 3 4 5]\n",
            "type:  <class 'numpy.ndarray'>\n"
          ]
        }
      ]
    },
    {
      "cell_type": "code",
      "source": [
        "my_array = np.array((1, 2, 3, 4, 5))\n",
        "print('my array: ', my_array)\n",
        "print('type: ', type(my_array))"
      ],
      "metadata": {
        "colab": {
          "base_uri": "https://localhost:8080/"
        },
        "id": "Dc8HeQBjJZt1",
        "outputId": "032ad008-4e88-4c5a-903e-d5b6af0c3824"
      },
      "execution_count": null,
      "outputs": [
        {
          "output_type": "stream",
          "name": "stdout",
          "text": [
            "my array:  [1 2 3 4 5]\n",
            "type:  <class 'numpy.ndarray'>\n"
          ]
        }
      ]
    },
    {
      "cell_type": "code",
      "source": [
        "my_array = np.array(range(1, 6))\n",
        "print('my array: ', my_array)\n",
        "print('type: ', type(my_array))"
      ],
      "metadata": {
        "colab": {
          "base_uri": "https://localhost:8080/"
        },
        "id": "uYMJA9-1Jn8_",
        "outputId": "5afe18ae-2d01-4ff2-eca3-89c1329ed5d4"
      },
      "execution_count": null,
      "outputs": [
        {
          "output_type": "stream",
          "name": "stdout",
          "text": [
            "my array:  [1 2 3 4 5]\n",
            "type:  <class 'numpy.ndarray'>\n"
          ]
        }
      ]
    },
    {
      "cell_type": "markdown",
      "source": [
        "The `np.array()` method in NumPy is used to create a new NumPy array. It takes one required parameter and several optional parameters:\n",
        "\n",
        "1. Required Parameter:\n",
        "   - `object`: It represents the input data, which can be a sequence (e.g., list, tuple) or an array-like object.\n",
        "\n",
        "Optional Parameters:\n",
        "   - `dtype`: It specifies the data type of the elements in the array. By default, it infers the data type based on the input data. Common data types include `int`, `float`, `bool`, etc.\n",
        "   - `copy`: It determines whether to create a copy of the input data (`True`) or use a reference to the original data (`False`). By default, it is set to `True`.\n",
        "   - `order`: It specifies the memory layout of the array. It can be `'C'` (row-major order) or `'F'` (column-major order). By default, it is `'C'`.\n",
        "   - `subok`: It controls whether to return a subclass of ndarray (`True`) or a NumPy array (`False`). By default, it is set to `False`.\n",
        "   - `ndmin`: It specifies the minimum number of dimensions of the resulting array. By default, it creates an array with the minimum possible number of dimensions.\n",
        "\n",
        "The `np.array()` method returns a new NumPy array containing the elements from the input data.\n",
        "\n",
        "\n",
        "These are the main parameters you can use with the `np.array()` method to create NumPy arrays."
      ],
      "metadata": {
        "id": "YDf0lEuBi6ZX"
      }
    },
    {
      "cell_type": "code",
      "source": [
        "# data type (dtype)\n",
        "my_array = np.array([1, 2, 3, 4, 5])\n",
        "print('my array: ', my_array)\n",
        "print('data type: ', my_array.dtype)\n",
        "\n",
        "my_array = np.array([1, 2, 3, 4, 5], dtype=np.int32)\n",
        "print('my array: ', my_array)\n",
        "print('data type: ', my_array.dtype)\n",
        "\n",
        "my_array = np.array([1, 2, 3, 4, 5], dtype=np.float32)\n",
        "print('my array: ', my_array)\n",
        "print('data type: ', my_array.dtype)"
      ],
      "metadata": {
        "colab": {
          "base_uri": "https://localhost:8080/"
        },
        "id": "eJlbvwiRJuSR",
        "outputId": "e260c1f2-5f6d-4449-ee36-e15d86e7092a"
      },
      "execution_count": null,
      "outputs": [
        {
          "output_type": "stream",
          "name": "stdout",
          "text": [
            "my array:  [1 2 3 4 5]\n",
            "data type:  int64\n",
            "my array:  [1 2 3 4 5]\n",
            "data type:  int32\n",
            "my array:  [1. 2. 3. 4. 5.]\n",
            "data type:  float32\n"
          ]
        }
      ]
    },
    {
      "cell_type": "code",
      "source": [
        "# ndmin\n",
        "\n",
        "my_array = np.array([1, 2, 3, 4, 5])\n",
        "print('my array: ', my_array)\n",
        "print('number of dimension: ', my_array.ndim)\n",
        "\n",
        "my_array = np.array([1, 2, 3, 4, 5], ndmin=3)\n",
        "print('my array: ', my_array)\n",
        "print('number of dimension: ', my_array.ndim)"
      ],
      "metadata": {
        "colab": {
          "base_uri": "https://localhost:8080/"
        },
        "id": "RLWP225PJ7pt",
        "outputId": "53d3ad84-e761-48ef-8167-1f0662277144"
      },
      "execution_count": null,
      "outputs": [
        {
          "output_type": "stream",
          "name": "stdout",
          "text": [
            "my array:  [1 2 3 4 5]\n",
            "number of dimension:  1\n",
            "my array:  [[[1 2 3 4 5]]]\n",
            "number of dimension:  3\n"
          ]
        }
      ]
    },
    {
      "cell_type": "code",
      "source": [
        "# order\n",
        "my_array = np.array([1, 2, 3, 4, 5], order='C')\n",
        "print('my array: ', my_array)\n",
        "my_array = np.array([1, 2, 3, 4, 5], order='F')\n",
        "print('my array: ', my_array)"
      ],
      "metadata": {
        "colab": {
          "base_uri": "https://localhost:8080/"
        },
        "id": "IiKnz3uVKbQ5",
        "outputId": "082e5354-c11d-452d-c210-8b556001df0a"
      },
      "execution_count": null,
      "outputs": [
        {
          "output_type": "stream",
          "name": "stdout",
          "text": [
            "my array:  [1 2 3 4 5]\n",
            "my array:  [1 2 3 4 5]\n"
          ]
        }
      ]
    },
    {
      "cell_type": "code",
      "source": [
        "# copy\n",
        "\n",
        "my_array = np.array([1, 2, 3, 4, 5])\n",
        "print('my array: ', my_array)\n",
        "\n",
        "\n",
        "view_array = np.array(my_array, copy=False)\n",
        "print('view array: ', view_array)\n",
        "\n",
        "\n",
        "copied_array = np.array(my_array, copy=True)\n",
        "print('copied array: ', copied_array)\n",
        "\n",
        "view_array[3] = -300\n",
        "copied_array[1] = 200\n",
        "\n",
        "print('my array: ', my_array)\n",
        "print('view array: ', view_array)\n",
        "print('copied array: ', copied_array)\n"
      ],
      "metadata": {
        "colab": {
          "base_uri": "https://localhost:8080/"
        },
        "id": "eJpyn6JvK0SU",
        "outputId": "d95a54e4-9175-467e-cfc1-4f898904b1c8"
      },
      "execution_count": null,
      "outputs": [
        {
          "output_type": "stream",
          "name": "stdout",
          "text": [
            "my array:  [1 2 3 4 5]\n",
            "view array:  [1 2 3 4 5]\n",
            "copied array:  [1 2 3 4 5]\n",
            "my array:  [   1    2    3 -300    5]\n",
            "view array:  [   1    2    3 -300    5]\n",
            "copied array:  [  1 200   3   4   5]\n"
          ]
        }
      ]
    },
    {
      "cell_type": "code",
      "source": [
        "print('my array: ', id(my_array))\n",
        "print('view array: ', id(view_array))\n",
        "print('copied array: ', id(copied_array))"
      ],
      "metadata": {
        "colab": {
          "base_uri": "https://localhost:8080/"
        },
        "id": "k5Hp6hDJLdVv",
        "outputId": "e7ac99cd-b1d6-4c10-be0c-179b18c717c9"
      },
      "execution_count": null,
      "outputs": [
        {
          "output_type": "stream",
          "name": "stdout",
          "text": [
            "my array:  134640095262928\n",
            "view array:  134640095262928\n",
            "copied array:  134640095261008\n"
          ]
        }
      ]
    },
    {
      "cell_type": "code",
      "source": [
        "#subok"
      ],
      "metadata": {
        "id": "yWiKHjECL7Rj"
      },
      "execution_count": null,
      "outputs": []
    }
  ]
}