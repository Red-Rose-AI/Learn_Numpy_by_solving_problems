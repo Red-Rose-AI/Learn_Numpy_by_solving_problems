{
  "nbformat": 4,
  "nbformat_minor": 0,
  "metadata": {
    "colab": {
      "provenance": [],
      "authorship_tag": "ABX9TyP43iiXCsosZk0CXtGB8fEO",
      "include_colab_link": true
    },
    "kernelspec": {
      "name": "python3",
      "display_name": "Python 3"
    },
    "language_info": {
      "name": "python"
    }
  },
  "cells": [
    {
      "cell_type": "markdown",
      "metadata": {
        "id": "view-in-github",
        "colab_type": "text"
      },
      "source": [
        "<a href=\"https://colab.research.google.com/github/Red-Rose-AI/Learn_Numpy_by_solving_problems/blob/main/Learn_Numpy_By_Solving_Problem_4.ipynb\" target=\"_parent\"><img src=\"https://colab.research.google.com/assets/colab-badge.svg\" alt=\"Open In Colab\"/></a>"
      ]
    },
    {
      "cell_type": "markdown",
      "source": [
        "\n",
        "\n",
        "# <font color='red'>------------||  Red Rose AI  ||------------</font>\n",
        "\n",
        "---\n",
        "\n",
        "\n",
        "**Empowering AI Enthusiasts: Theory to Practice with Red Rose AI**\n",
        "\n",
        "\n",
        "---\n",
        "\n"
      ],
      "metadata": {
        "id": "Zsf__DS2vzvl"
      }
    },
    {
      "cell_type": "markdown",
      "source": [
        "**Problem 4:** Create a NumPy array called ones_array with a shape of (3, 4) filled with ones. Print the array.\n"
      ],
      "metadata": {
        "id": "p6BOoDuqwJdg"
      }
    },
    {
      "cell_type": "code",
      "source": [
        "import numpy as np"
      ],
      "metadata": {
        "id": "-sXctUZ_wLwC"
      },
      "execution_count": null,
      "outputs": []
    },
    {
      "cell_type": "code",
      "source": [
        "ones_list = [1 for i in range(3*4)]\n",
        "print('ones list: ', ones_list)\n",
        "print('length of list: ', len(ones_list))"
      ],
      "metadata": {
        "colab": {
          "base_uri": "https://localhost:8080/"
        },
        "id": "fP_KFLe-QpEb",
        "outputId": "b929ff25-8c7d-461a-8e94-7270d29e8675"
      },
      "execution_count": null,
      "outputs": [
        {
          "output_type": "stream",
          "name": "stdout",
          "text": [
            "ones list:  [1, 1, 1, 1, 1, 1, 1, 1, 1, 1, 1, 1]\n",
            "length of list:  12\n"
          ]
        }
      ]
    },
    {
      "cell_type": "code",
      "source": [
        "ones_list = [1] * (3*4)\n",
        "print('ones list: ', ones_list)\n",
        "print('length of list: ', len(ones_list))"
      ],
      "metadata": {
        "colab": {
          "base_uri": "https://localhost:8080/"
        },
        "id": "AmvPLeZvQ2_u",
        "outputId": "f81d7254-02f0-423e-94ed-882072d0d891"
      },
      "execution_count": null,
      "outputs": [
        {
          "output_type": "stream",
          "name": "stdout",
          "text": [
            "ones list:  [1, 1, 1, 1, 1, 1, 1, 1, 1, 1, 1, 1]\n",
            "length of list:  12\n"
          ]
        }
      ]
    },
    {
      "cell_type": "code",
      "source": [
        "ones_array = np.array(ones_list)\n",
        "print('ones array: ', ones_array)\n",
        "print('type: ', type(ones_array))"
      ],
      "metadata": {
        "colab": {
          "base_uri": "https://localhost:8080/"
        },
        "id": "M05U0ObfRBTY",
        "outputId": "57cb5d57-821f-49cc-935a-9339bcf2216b"
      },
      "execution_count": null,
      "outputs": [
        {
          "output_type": "stream",
          "name": "stdout",
          "text": [
            "ones array:  [1 1 1 1 1 1 1 1 1 1 1 1]\n",
            "type:  <class 'numpy.ndarray'>\n"
          ]
        }
      ]
    },
    {
      "cell_type": "code",
      "source": [
        "# reshape\n",
        "ones_array = np.array(ones_list).reshape((3, 4))\n",
        "print('ones array: \\n', ones_array)\n",
        "print('type: ', type(ones_array))\n",
        "print('shape: ', ones_array.shape)"
      ],
      "metadata": {
        "colab": {
          "base_uri": "https://localhost:8080/"
        },
        "id": "tuI7pbQ6RNcs",
        "outputId": "af44db98-2b07-4f6d-eeb1-97a7a1c33087"
      },
      "execution_count": null,
      "outputs": [
        {
          "output_type": "stream",
          "name": "stdout",
          "text": [
            "ones array: \n",
            " [[1 1 1 1]\n",
            " [1 1 1 1]\n",
            " [1 1 1 1]]\n",
            "type:  <class 'numpy.ndarray'>\n",
            "shape:  (3, 4)\n"
          ]
        }
      ]
    },
    {
      "cell_type": "code",
      "source": [
        "#np.ones\n",
        "ones_array = np.ones((3, 4), dtype=np.int32)\n",
        "print('ones array: \\n', ones_array)\n",
        "print('type: ', type(ones_array))\n",
        "print('shape: ', ones_array.shape)\n",
        "print('data type: ', ones_array.dtype)"
      ],
      "metadata": {
        "colab": {
          "base_uri": "https://localhost:8080/"
        },
        "id": "Hg8M4C-eRaQ0",
        "outputId": "1678822a-c8c1-466f-8a8f-5de84a7695d6"
      },
      "execution_count": null,
      "outputs": [
        {
          "output_type": "stream",
          "name": "stdout",
          "text": [
            "ones array: \n",
            " [[1 1 1 1]\n",
            " [1 1 1 1]\n",
            " [1 1 1 1]]\n",
            "type:  <class 'numpy.ndarray'>\n",
            "shape:  (3, 4)\n",
            "data type:  int32\n"
          ]
        }
      ]
    },
    {
      "cell_type": "code",
      "source": [
        "np.ones((10,), dtype=np.int32)"
      ],
      "metadata": {
        "colab": {
          "base_uri": "https://localhost:8080/"
        },
        "id": "K1onDQv-Rwlp",
        "outputId": "9546f534-a610-4bf5-be72-f03accd116b8"
      },
      "execution_count": null,
      "outputs": [
        {
          "output_type": "execute_result",
          "data": {
            "text/plain": [
              "array([1, 1, 1, 1, 1, 1, 1, 1, 1, 1], dtype=int32)"
            ]
          },
          "metadata": {},
          "execution_count": 12
        }
      ]
    },
    {
      "cell_type": "code",
      "source": [
        "# reshape\n",
        "ones_array = np.array(ones_list).reshape((3, 5))\n",
        "print('ones array: \\n', ones_array)\n",
        "print('type: ', type(ones_array))\n",
        "print('shape: ', ones_array.shape)"
      ],
      "metadata": {
        "colab": {
          "base_uri": "https://localhost:8080/",
          "height": 245
        },
        "id": "ygjgkTguR7SM",
        "outputId": "6723e93f-8f47-4a20-ce10-0ee25e548aeb"
      },
      "execution_count": null,
      "outputs": [
        {
          "output_type": "error",
          "ename": "ValueError",
          "evalue": "ignored",
          "traceback": [
            "\u001b[0;31m---------------------------------------------------------------------------\u001b[0m",
            "\u001b[0;31mValueError\u001b[0m                                Traceback (most recent call last)",
            "\u001b[0;32m<ipython-input-13-57a563006c53>\u001b[0m in \u001b[0;36m<cell line: 2>\u001b[0;34m()\u001b[0m\n\u001b[1;32m      1\u001b[0m \u001b[0;31m# reshape\u001b[0m\u001b[0;34m\u001b[0m\u001b[0;34m\u001b[0m\u001b[0m\n\u001b[0;32m----> 2\u001b[0;31m \u001b[0mones_array\u001b[0m \u001b[0;34m=\u001b[0m \u001b[0mnp\u001b[0m\u001b[0;34m.\u001b[0m\u001b[0marray\u001b[0m\u001b[0;34m(\u001b[0m\u001b[0mones_list\u001b[0m\u001b[0;34m)\u001b[0m\u001b[0;34m.\u001b[0m\u001b[0mreshape\u001b[0m\u001b[0;34m(\u001b[0m\u001b[0;34m(\u001b[0m\u001b[0;36m3\u001b[0m\u001b[0;34m,\u001b[0m \u001b[0;36m5\u001b[0m\u001b[0;34m)\u001b[0m\u001b[0;34m)\u001b[0m\u001b[0;34m\u001b[0m\u001b[0;34m\u001b[0m\u001b[0m\n\u001b[0m\u001b[1;32m      3\u001b[0m \u001b[0mprint\u001b[0m\u001b[0;34m(\u001b[0m\u001b[0;34m'ones array: \\n'\u001b[0m\u001b[0;34m,\u001b[0m \u001b[0mones_array\u001b[0m\u001b[0;34m)\u001b[0m\u001b[0;34m\u001b[0m\u001b[0;34m\u001b[0m\u001b[0m\n\u001b[1;32m      4\u001b[0m \u001b[0mprint\u001b[0m\u001b[0;34m(\u001b[0m\u001b[0;34m'type: '\u001b[0m\u001b[0;34m,\u001b[0m \u001b[0mtype\u001b[0m\u001b[0;34m(\u001b[0m\u001b[0mones_array\u001b[0m\u001b[0;34m)\u001b[0m\u001b[0;34m)\u001b[0m\u001b[0;34m\u001b[0m\u001b[0;34m\u001b[0m\u001b[0m\n\u001b[1;32m      5\u001b[0m \u001b[0mprint\u001b[0m\u001b[0;34m(\u001b[0m\u001b[0;34m'shape: '\u001b[0m\u001b[0;34m,\u001b[0m \u001b[0mones_array\u001b[0m\u001b[0;34m.\u001b[0m\u001b[0mshape\u001b[0m\u001b[0;34m)\u001b[0m\u001b[0;34m\u001b[0m\u001b[0;34m\u001b[0m\u001b[0m\n",
            "\u001b[0;31mValueError\u001b[0m: cannot reshape array of size 12 into shape (3,5)"
          ]
        }
      ]
    },
    {
      "cell_type": "code",
      "source": [],
      "metadata": {
        "id": "gzXzI018SOZN"
      },
      "execution_count": null,
      "outputs": []
    }
  ]
}