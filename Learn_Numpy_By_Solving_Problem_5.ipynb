{
  "nbformat": 4,
  "nbformat_minor": 0,
  "metadata": {
    "colab": {
      "provenance": [],
      "authorship_tag": "ABX9TyNQgFoErrAf+oc0hB9f7fw2",
      "include_colab_link": true
    },
    "kernelspec": {
      "name": "python3",
      "display_name": "Python 3"
    },
    "language_info": {
      "name": "python"
    }
  },
  "cells": [
    {
      "cell_type": "markdown",
      "metadata": {
        "id": "view-in-github",
        "colab_type": "text"
      },
      "source": [
        "<a href=\"https://colab.research.google.com/github/Red-Rose-AI/Learn_Numpy_by_solving_problems/blob/main/Learn_Numpy_By_Solving_Problem_5.ipynb\" target=\"_parent\"><img src=\"https://colab.research.google.com/assets/colab-badge.svg\" alt=\"Open In Colab\"/></a>"
      ]
    },
    {
      "cell_type": "markdown",
      "source": [
        "\n",
        "\n",
        "# <font color='red'>------------||  Red Rose AI  ||------------</font>\n",
        "\n",
        "---\n",
        "\n",
        "\n",
        "**Empowering AI Enthusiasts: Theory to Practice with Red Rose AI**\n",
        "\n",
        "\n",
        "---\n",
        "\n"
      ],
      "metadata": {
        "id": "Zsf__DS2vzvl"
      }
    },
    {
      "cell_type": "markdown",
      "source": [
        "**Problem 5:** Create a NumPy array called identity_matrix with a shape of (4, 4) representing an identity matrix. Print the array.\n",
        "\n",
        "- An identity matrix is a given square matrix of any order which contains on its main diagonal elements with value of one, while the rest of the matrix elements are equal to zero.\n",
        "\n",
        "      `\n",
        "      [[1, 0, 0, 0],\n",
        "\n",
        "       [0, 1, 0, 0],\n",
        "\n",
        "       [0, 0, 1, 0],\n",
        "\n",
        "       [0, 0, 0, 1]]\n",
        "       `"
      ],
      "metadata": {
        "id": "p6BOoDuqwJdg"
      }
    },
    {
      "cell_type": "code",
      "source": [
        "import numpy as np"
      ],
      "metadata": {
        "id": "1-LlQNQBYCZT"
      },
      "execution_count": null,
      "outputs": []
    },
    {
      "cell_type": "code",
      "source": [
        "identity_list = []\n",
        "for i in range(4):\n",
        "  for j in range(4):\n",
        "    if i == j:\n",
        "      identity_list.append(1)\n",
        "    else:\n",
        "      identity_list.append(0)\n",
        "\n",
        "print('identity list: ', identity_list)"
      ],
      "metadata": {
        "colab": {
          "base_uri": "https://localhost:8080/"
        },
        "id": "RRgRPNFoV7yy",
        "outputId": "c8c4e4a3-43f6-44ac-d2ef-646e16ad3136"
      },
      "execution_count": null,
      "outputs": [
        {
          "output_type": "stream",
          "name": "stdout",
          "text": [
            "identity list:  [1, 0, 0, 0, 0, 1, 0, 0, 0, 0, 1, 0, 0, 0, 0, 1]\n"
          ]
        }
      ]
    },
    {
      "cell_type": "code",
      "source": [
        "identity_array = np.array(identity_list)\n",
        "print('identity array: ', identity_array)\n",
        "print('shape: ', identity_array.shape)\n"
      ],
      "metadata": {
        "colab": {
          "base_uri": "https://localhost:8080/"
        },
        "id": "TxnnyWJoXxNV",
        "outputId": "57591709-6622-4285-d4b4-b0951ddc894b"
      },
      "execution_count": null,
      "outputs": [
        {
          "output_type": "stream",
          "name": "stdout",
          "text": [
            "identity array:  [1 0 0 0 0 1 0 0 0 0 1 0 0 0 0 1]\n",
            "shape:  (16,)\n"
          ]
        }
      ]
    },
    {
      "cell_type": "code",
      "source": [
        "identity_matrix = identity_array.reshape((4, 4))\n",
        "print('identity matrix: \\n', identity_matrix)\n",
        "print('shape: ', identity_matrix.shape)\n"
      ],
      "metadata": {
        "colab": {
          "base_uri": "https://localhost:8080/"
        },
        "id": "PIJ6LoP9YEcN",
        "outputId": "66b53040-2f2d-4cc2-af94-eb5a61ff6e21"
      },
      "execution_count": null,
      "outputs": [
        {
          "output_type": "stream",
          "name": "stdout",
          "text": [
            "identity matrix: \n",
            " [[1 0 0 0]\n",
            " [0 1 0 0]\n",
            " [0 0 1 0]\n",
            " [0 0 0 1]]\n",
            "shape:  (4, 4)\n"
          ]
        }
      ]
    },
    {
      "cell_type": "code",
      "source": [
        "# np.identity\n",
        "identity_matrix = np.identity(4, dtype=np.int32)\n",
        "print('identity matrix: \\n', identity_matrix)\n",
        "print('shape: ', identity_matrix.shape)"
      ],
      "metadata": {
        "colab": {
          "base_uri": "https://localhost:8080/"
        },
        "id": "27ng_il5YUBc",
        "outputId": "8554e452-2449-4cc0-cd5c-2a14fd0c5ccc"
      },
      "execution_count": null,
      "outputs": [
        {
          "output_type": "stream",
          "name": "stdout",
          "text": [
            "identity matrix: \n",
            " [[1 0 0 0]\n",
            " [0 1 0 0]\n",
            " [0 0 1 0]\n",
            " [0 0 0 1]]\n",
            "shape:  (4, 4)\n"
          ]
        }
      ]
    },
    {
      "cell_type": "code",
      "source": [],
      "metadata": {
        "id": "clw620B2YpZ7"
      },
      "execution_count": null,
      "outputs": []
    }
  ]
}